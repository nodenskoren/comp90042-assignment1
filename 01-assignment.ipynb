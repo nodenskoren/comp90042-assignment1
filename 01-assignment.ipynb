{
 "cells": [
  {
   "cell_type": "markdown",
   "metadata": {},
   "source": [
    "# Homework 1: Preprocessing and Text Classification"
   ]
  },
  {
   "cell_type": "markdown",
   "metadata": {},
   "source": [
    "Student Name: Nodens Koren\n",
    "\n",
    "Student ID: 1060811"
   ]
  },
  {
   "cell_type": "markdown",
   "metadata": {},
   "source": [
    "# General Info\n",
    "\n",
    "<b>Due date</b>: Sunday, 5 Apr 2020 5pm\n",
    "\n",
    "<b>Submission method</b>: Canvas submission\n",
    "\n",
    "<b>Submission materials</b>: completed copy of this iPython notebook\n",
    "\n",
    "<b>Late submissions</b>: -20% per day (both week and weekend days counted)\n",
    "\n",
    "<b>Marks</b>: 10% of mark for class (with 9% on correctness + 1% on quality and efficiency of your code)\n",
    "\n",
    "<b>Materials</b>: See [Using Jupyter Notebook and Python page](https://canvas.lms.unimelb.edu.au/courses/17601/pages/using-jupyter-notebook-and-python?module_item_id=1678430) on Canvas (under Modules>Resources) for information on the basic setup required for this class, including an iPython notebook viewer and the python packages NLTK, Numpy, Scipy, Matplotlib, Scikit-Learn, and Gensim. In particular, if you are not using a lab computer which already has it installed, we recommend installing all the data for NLTK, since you will need various parts of it to complete this assignment. You can also use any Python built-in packages, but do not use any other 3rd party packages (the packages listed above are all fine to use); if your iPython notebook doesn't run on the marker's machine, you will lose marks. <b> You should use Python 3</b>.  \n",
    "\n",
    "To familiarize yourself with NLTK, here is a free online book:  Steven Bird, Ewan Klein, and Edward Loper (2009). <a href=http://nltk.org/book>Natural Language Processing with Python</a>. O'Reilly Media Inc. You may also consult the <a href=https://www.nltk.org/api/nltk.html>NLTK API</a>.\n",
    "\n",
    "<b>Evaluation</b>: Your iPython notebook should run end-to-end without any errors in a reasonable amount of time, and you must follow all instructions provided below, including specific implementation requirements and instructions for what needs to be printed (please avoid printing output we don't ask for). You should edit the sections below where requested, but leave the rest of the code as is. You should leave the output from running your code in the iPython notebook you submit, to assist with marking. The amount each section is worth is given in parenthesis after the instructions. \n",
    "\n",
    "You will be marked not only on the correctness of your methods, but also the quality and efficency of your code: in particular, you should be careful to use Python built-in functions and operators when appropriate and pick descriptive variable names that adhere to <a href=\"https://www.python.org/dev/peps/pep-0008/\">Python style requirements</a>. If you think it might be unclear what you are doing, you should comment your code to help the marker make sense of it.\n",
    "\n",
    "<b>Updates</b>: Any major changes to the assignment will be announced via Canvas. Minor changes and clarifications will be announced on the discussion board; we recommend you check it regularly.\n",
    "\n",
    "<b>Academic misconduct</b>: For most people, collaboration will form a natural part of the undertaking of this homework, and we encourge you to discuss it in general terms with other students. However, this ultimately is still an individual task, and so reuse of code or other instances of clear influence will be considered cheating. We will be checking submissions for originality and will invoke the University’s <a href=\"http://academichonesty.unimelb.edu.au/policy.html\">Academic Misconduct policy</a> where inappropriate levels of collusion or plagiarism are deemed to have taken place."
   ]
  },
  {
   "cell_type": "markdown",
   "metadata": {},
   "source": [
    "# Overview\n",
    "\n",
    "In this homework, you'll be working with a collection tweets. The task is to classify whether a tweet constitutes a rumour event. This homework involves writing code to preprocess data and perform text classification."
   ]
  },
  {
   "cell_type": "markdown",
   "metadata": {},
   "source": [
    "# 1. Preprocessing (5 marks)"
   ]
  },
  {
   "cell_type": "markdown",
   "metadata": {},
   "source": [
    "**Instructions**: Run the code below to download the tweet corpus for the assignment. Note: the download may take some time. **No implementation is needed.**"
   ]
  },
  {
   "cell_type": "code",
   "execution_count": 1,
   "metadata": {},
   "outputs": [
    {
     "name": "stdout",
     "output_type": "stream",
     "text": [
      "Requirement already satisfied: nltk in c:\\users\\noden\\anaconda3\\lib\\site-packages (3.4.4)\n",
      "Requirement already satisfied: six in c:\\users\\noden\\anaconda3\\lib\\site-packages (from nltk) (1.12.0)\n",
      "Done. File downloaded: rumour-data.tgz\n"
     ]
    }
   ],
   "source": [
    "import requests\n",
    "import os\n",
    "from pathlib import Path\n",
    "!pip install nltk\n",
    "\n",
    "fname = 'rumour-data.tgz'\n",
    "data_dir = os.path.splitext(fname)[0] #'rumour-data'\n",
    "\n",
    "my_file = Path(fname)\n",
    "if not my_file.is_file():\n",
    "    url = \"https://github.com/jhlau/jhlau.github.io/blob/master/files/rumour-data.tgz?raw=true\"\n",
    "    r = requests.get(url)\n",
    "\n",
    "    #Save to the current directory\n",
    "    with open(fname, 'wb') as f:\n",
    "        f.write(r.content)\n",
    "        \n",
    "print(\"Done. File downloaded:\", my_file)\n"
   ]
  },
  {
   "cell_type": "markdown",
   "metadata": {},
   "source": [
    "**Instructions**: Run the code to extract the zip file. Note: the extraction may take a minute or two. **No implementation is needed.**"
   ]
  },
  {
   "cell_type": "code",
   "execution_count": 2,
   "metadata": {},
   "outputs": [
    {
     "name": "stdout",
     "output_type": "stream",
     "text": [
      "Extraction done.\n"
     ]
    }
   ],
   "source": [
    "import tarfile\n",
    "\n",
    "#decompress rumour-data.tgz\n",
    "tar = tarfile.open(fname, \"r:gz\")\n",
    "tar.extractall()\n",
    "tar.close()\n",
    "\n",
    "#remove superfluous files (e.g. .DS_store)\n",
    "extra_files = []\n",
    "for r, d, f in os.walk(data_dir):\n",
    "    for file in f:\n",
    "        if (file.startswith(\".\")):\n",
    "            extra_files.append(os.path.join(r, file))\n",
    "for f in extra_files:\n",
    "    os.remove(f)\n",
    "\n",
    "print(\"Extraction done.\")"
   ]
  },
  {
   "cell_type": "markdown",
   "metadata": {},
   "source": [
    "### Question 1 (1.0 mark)\n",
    "\n",
    "**Instructions**: The corpus data is in the *rumour-data* folder. It contains 2 sub-folders: *non-rumours* and *rumours*. As the names suggest, *rumours* contains all rumour-propagating tweets, while *non-rumours* has normal tweets. Within  *rumours* and *non-rumours*, you'll find some sub-folders, each named with an ID. Each of these IDs constitutes an 'event', where an event is defined as consisting a **source tweet** and its **reactions**.\n",
    "\n",
    "An illustration of the folder structure is given below:\n",
    "\n",
    "    rumour-data\n",
    "        - rumours\n",
    "            - 498254340310966273\n",
    "                - reactions\n",
    "                    - 498254340310966273.json\n",
    "                    - 498260814487642112.json\n",
    "                - source-tweet\n",
    "                    - 498254340310966273.json\n",
    "        - non-rumours\n",
    "\n",
    "Now we need to gather the tweet messages for rumours and non-rumour events. As the individual tweets are stored in json format, we need to use a json parser to parse and collect the actual tweet message. The function `get_tweet_text_from_json(file_path)` is provided to do that.\n",
    "\n",
    "**Task**: Complete the `get_events(event_dir)` function. The function should return **a list of events** for a particular class of tweets (e.g. rumours), and each event should contain the source tweet message and all reaction tweet messages.\n",
    "\n",
    "**Check**: Use the assertion statements in *\"For your testing\"* below for the expected output."
   ]
  },
  {
   "cell_type": "code",
   "execution_count": 3,
   "metadata": {},
   "outputs": [
    {
     "name": "stdout",
     "output_type": "stream",
     "text": [
      "Number of rumour events = 500\n",
      "Number of non-rumour events = 1000\n"
     ]
    }
   ],
   "source": [
    "import json\n",
    "\n",
    "def get_tweet_text_from_json(file_path):\n",
    "    with open(file_path) as json_file:\n",
    "        data = json.load(json_file)\n",
    "        return data[\"text\"]\n",
    "    \n",
    "def get_events(event_dir):\n",
    "    event_list = []\n",
    "    for event in sorted(os.listdir(event_dir)):\n",
    "        ###\n",
    "        # Your answer BEGINS HERE\n",
    "        ###\n",
    "        message_list = []\n",
    "        source_dir = os.path.join(event_dir, event, \"source-tweet\")\n",
    "        reaction_dir = os.path.join(event_dir, event, \"reactions\")\n",
    "        \n",
    "        # extract the source tweet\n",
    "        for source_tweet in os.listdir(source_dir):\n",
    "            message_list.append(get_tweet_text_from_json(os.path.join(source_dir, source_tweet)))\n",
    "        \n",
    "        # extract the reaction tweets\n",
    "        for reaction_tweet in os.listdir(reaction_dir):\n",
    "            message_list.append(get_tweet_text_from_json(os.path.join(reaction_dir, reaction_tweet)))\n",
    "        \n",
    "        # append the single preprocessed event to the event list\n",
    "        event_list.append(message_list)\n",
    "        \n",
    "        ###\n",
    "        # Your answer ENDS HERE\n",
    "        ###\n",
    "    return event_list\n",
    "\n",
    "#a list of events, and each event is a list of tweets (source tweet + reactions)    \n",
    "rumour_events = get_events(os.path.join(data_dir, \"rumours\"))\n",
    "nonrumour_events = get_events(os.path.join(data_dir, \"non-rumours\"))\n",
    "\n",
    "print(\"Number of rumour events =\", len(rumour_events))\n",
    "print(\"Number of non-rumour events =\", len(nonrumour_events))"
   ]
  },
  {
   "cell_type": "markdown",
   "metadata": {},
   "source": [
    "**For your testing:**"
   ]
  },
  {
   "cell_type": "code",
   "execution_count": 4,
   "metadata": {},
   "outputs": [],
   "source": [
    "assert(len(rumour_events) == 500)\n",
    "assert(len(nonrumour_events) == 1000)"
   ]
  },
  {
   "cell_type": "markdown",
   "metadata": {},
   "source": [
    "### Question 2 (1.0 mark)\n",
    "\n",
    "**Instructions**: Next we need to preprocess the collected tweets to create a bag-of-words representation. The preprocessing steps required here are: (1) tokenize each tweet into individual word tokens (using NLTK `TweetTokenizer`); and (2) remove stopwords (based on NLTK `stopwords`).\n",
    "\n",
    "**Task**: Complete the `preprocess_events(event)` function. The function takes **a list of events** as input, and returns **a list of preprocessed events**. Each preprocessed event should have a dictionary of words and frequencies.\n",
    "\n",
    "**Check**: Use the assertion statements in *\"For your testing\"* below for the expected output."
   ]
  },
  {
   "cell_type": "code",
   "execution_count": 5,
   "metadata": {},
   "outputs": [
    {
     "name": "stderr",
     "output_type": "stream",
     "text": [
      "[nltk_data] Downloading package stopwords to\n",
      "[nltk_data]     C:\\Users\\noden\\AppData\\Roaming\\nltk_data...\n",
      "[nltk_data]   Package stopwords is already up-to-date!\n"
     ]
    },
    {
     "name": "stdout",
     "output_type": "stream",
     "text": [
      "Number of preprocessed rumour events = 500\n",
      "Number of preprocessed non-rumour events = 1000\n"
     ]
    }
   ],
   "source": [
    "import nltk\n",
    "nltk.download('stopwords')\n",
    "from nltk.tokenize import TweetTokenizer\n",
    "from nltk.corpus import stopwords\n",
    "from collections import defaultdict\n",
    "from collections import Counter\n",
    "\n",
    "tt = TweetTokenizer()\n",
    "stopwords = set(stopwords.words('english'))\n",
    "\n",
    "def preprocess_events(events):\n",
    "    ###\n",
    "    # Your answer BEGINS HERE\n",
    "    ###\n",
    "    preprocessed_event_list = []\n",
    "\n",
    "    # Tokenize each event and remove the stopwords in each event\n",
    "    for event in events:\n",
    "        filtered_sentence = [w for w in tt.tokenize(' '.join(event)) if not w in stopwords]\n",
    "        frequency = dict(Counter(filtered_sentence))\n",
    "        preprocessed_event_list.append(frequency)    \n",
    "    \n",
    "    return preprocessed_event_list\n",
    "    ###\n",
    "    # Your answer ENDS HERE\n",
    "    ###\n",
    "\n",
    "preprocessed_rumour_events = preprocess_events(rumour_events)\n",
    "preprocessed_nonrumour_events = preprocess_events(nonrumour_events)\n",
    "\n",
    "print(\"Number of preprocessed rumour events =\", len(preprocessed_rumour_events))\n",
    "print(\"Number of preprocessed non-rumour events =\", len(preprocessed_nonrumour_events))"
   ]
  },
  {
   "cell_type": "markdown",
   "metadata": {},
   "source": [
    "**For your testing**:"
   ]
  },
  {
   "cell_type": "code",
   "execution_count": 6,
   "metadata": {},
   "outputs": [],
   "source": [
    "assert(len(preprocessed_rumour_events) == 500)\n",
    "assert(len(preprocessed_nonrumour_events) == 1000)"
   ]
  },
  {
   "cell_type": "markdown",
   "metadata": {},
   "source": [
    "**Instructions**: Hashtags (i.e. topic tags which start with #) pose an interesting tokenisation problem because they often include multiple words written without spaces or capitalization. Run the code below to collect all unique hashtags in the preprocessed data. **No implementation is needed.**\n",
    "\n"
   ]
  },
  {
   "cell_type": "code",
   "execution_count": 7,
   "metadata": {},
   "outputs": [
    {
     "name": "stdout",
     "output_type": "stream",
     "text": [
      "Number of hashtags = 1829\n"
     ]
    }
   ],
   "source": [
    "def get_all_hashtags(events):\n",
    "    hashtags = set([])\n",
    "    for event in events:\n",
    "        for word, frequency in event.items():\n",
    "            if word.startswith(\"#\"):\n",
    "                hashtags.add(word)\n",
    "    return hashtags\n",
    "\n",
    "hashtags = get_all_hashtags(preprocessed_rumour_events + preprocessed_nonrumour_events)\n",
    "print(\"Number of hashtags =\", len(hashtags))"
   ]
  },
  {
   "cell_type": "markdown",
   "metadata": {},
   "source": [
    "### Question 3 (2.0 mark)\n",
    "\n",
    "**Instructions**: Our task here to tokenize the hashtags, by implementing a reversed version of the MaxMatch algorithm discussed in class, where matching begins at the end of the hashtag and progresses backwards. NLTK has a list of words that you can use for matching, see starter code below. Be careful about efficiency with respect to doing word lookups. One extra challenge you have to deal with is that the provided list of words includes only lemmas: your MaxMatch algorithm should match inflected forms by converting them into lemmas using the NLTK lemmatizer before matching. When lemmatising a word, you also need to provide the part-of-speech tag of the word. You should use `nltk.tag.pos_tag` for doing part-of-speech tagging.\n",
    "\n",
    "Note that the list of words is incomplete, and, if you are unable to make any longer match, your code should default to matching a single letter. Create a new list of tokenized hashtags (this should be a list of lists of strings) and use slicing to print out the last 20 hashtags in the list.\n",
    "\n",
    "For example, given \"#speakup\", the algorithm should produce: \\[\"#\", \"speak\", \"up\"\\]. And note that you do not need to delete the hashtag symbol (\"#\") from the tokenised outputs.\n",
    "\n",
    "**Task**: Complete the `tokenize_hashtags(hashtags)` function by implementing a reversed MaxMatch algorithm. The function takes as input **a set of hashtags**, and returns **a dictionary** where key=\"hashtag\" and value=\"a list of word tokens\".\n",
    "\n",
    "**Check**: Use the assertion statements in *\"For your testing\"* below for the expected output."
   ]
  },
  {
   "cell_type": "code",
   "execution_count": 31,
   "metadata": {},
   "outputs": [
    {
     "name": "stderr",
     "output_type": "stream",
     "text": [
      "[nltk_data] Downloading package words to\n",
      "[nltk_data]     C:\\Users\\noden\\AppData\\Roaming\\nltk_data...\n",
      "[nltk_data]   Package words is already up-to-date!\n",
      "[nltk_data] Downloading package wordnet to\n",
      "[nltk_data]     C:\\Users\\noden\\AppData\\Roaming\\nltk_data...\n",
      "[nltk_data]   Package wordnet is already up-to-date!\n",
      "[nltk_data] Downloading package punkt to\n",
      "[nltk_data]     C:\\Users\\noden\\AppData\\Roaming\\nltk_data...\n",
      "[nltk_data]   Package punkt is already up-to-date!\n"
     ]
    },
    {
     "name": "stdout",
     "output_type": "stream",
     "text": [
      "[('#MaryamrajaviI', ['#', 'Mar', 'yam', 'raja', 'v', 'i', 'I']), ('#wolvesinsheepsclothing', ['#', 'wolve', 'sin', 'sheeps', 'clothing']), ('#roft', ['#', 'r', 'oft']), ('#CoPilot', ['#', 'CoPilot']), ('#FergusonLies', ['#', 'Ferguson', 'Lies']), ('#developing', ['#', 'developing']), ('#ONUS', ['#', 'ONUS']), ('#smh', ['#', 's', 'm', 'h']), ('#FilthyCanadaUnderSiege', ['#', 'Filthy', 'Canada', 'Under', 'Siege']), ('#doughnutchase', ['#', 'doughnut', 'chase']), ('#kmov', ['#', 'k', 'mo', 'v']), ('#radicalism', ['#', 'radicalism']), ('#ninjaplease', ['#', 'ninja', 'please']), ('#NorthKorea', ['#', 'North', 'Ko', 'rea']), ('#PrayForSydneyHostages', ['#', 'Pray', 'For', 'Syd', 'n', 'ey', 'Hostages']), ('#newsspeak', ['#', 'news', 'speak']), ('#MilitantIslamists', ['#', 'Militant', 'Islamists']), ('#dicks', ['#', 'dicks']), ('#alive', ['#', 'alive']), ('#bcot', ['#', 'b', 'cot'])]\n"
     ]
    }
   ],
   "source": [
    "from nltk.corpus import wordnet\n",
    "from nltk import pos_tag, word_tokenize\n",
    "nltk.download('words')\n",
    "nltk.download('wordnet')\n",
    "nltk.download('punkt')\n",
    "\n",
    "lemmatizer = nltk.stem.wordnet.WordNetLemmatizer()\n",
    "words = set(nltk.corpus.words.words()) #a list of words provided by NLTK\n",
    "case_insensitive_words = set(map(lambda x:x.lower(), words)) # a list of \"caseless\" words mapped from wordnet\n",
    "\n",
    "# This function maps the NLTK pos-tag format to the Wordnet pos-tag format\n",
    "# This function is borrowed from https://www.machinelearningplus.com/nlp/lemmatization-examples-python/\n",
    "def get_wordnet_pos(word):\n",
    "    tag = nltk.pos_tag([word])[0][1][0].upper()\n",
    "    tag_dict = {\"J\": wordnet.ADJ,\n",
    "                \"N\": wordnet.NOUN,\n",
    "                \"V\": wordnet.VERB,\n",
    "                \"R\": wordnet.ADV}\n",
    "\n",
    "    return tag_dict.get(tag, wordnet.NOUN)\n",
    "# end of the borrowed section\n",
    "\n",
    "def tokenize_hashtags(hashtags):\n",
    "    ###\n",
    "    # Your answer BEGINS HERE\n",
    "    ###\n",
    "    tokenized_hashtags = {}\n",
    "    for hashtag in hashtags:\n",
    "        tail = len(hashtag)\n",
    "        hashtag_token = []\n",
    "        while tail > 0:\n",
    "            word = None\n",
    "            \n",
    "            # Starts matching from the longest substring\n",
    "            for i in range(len(hashtag), 0, -1):\n",
    "                head = tail - i\n",
    "                if head < 0:\n",
    "                    continue\n",
    "                else:\n",
    "                    substring = hashtag[head:tail]\n",
    "                    \n",
    "                    # Perform a case-insensitive string check between the current substring and the words in wordnet\n",
    "                    # If the substring matches a word in wordnet, append it to the token list, and start checking the remaining\n",
    "                    # substring from a new head\n",
    "                    if lemmatizer.lemmatize(substring.lower(), get_wordnet_pos(substring.lower())) in case_insensitive_words:\n",
    "                        word = substring\n",
    "                        hashtag_token.append(word)\n",
    "                        tail -= i\n",
    "                        break\n",
    "                        \n",
    "            # If no substring matches a word at all, tokenize the last character\n",
    "            if word is None:\n",
    "                hashtag_token.append(hashtag[tail-1])\n",
    "                tail -= 1\n",
    "        \n",
    "        tokenized_hashtags[hashtag] = hashtag_token[::-1]\n",
    "\n",
    "    return tokenized_hashtags    \n",
    "    ###\n",
    "    # Your answer ENDS HERE\n",
    "    ###  \n",
    "\n",
    "tokenized_hashtags = tokenize_hashtags(hashtags)\n",
    "\n",
    "print(list(tokenized_hashtags.items())[:20])"
   ]
  },
  {
   "cell_type": "markdown",
   "metadata": {},
   "source": [
    "**For your testing:**"
   ]
  },
  {
   "cell_type": "code",
   "execution_count": 32,
   "metadata": {},
   "outputs": [],
   "source": [
    "assert(len(tokenized_hashtags) == len(hashtags))"
   ]
  },
  {
   "cell_type": "markdown",
   "metadata": {},
   "source": [
    "### Question 4 (1.0 mark)\n",
    "\n",
    "**Instructions**: Now that we have the tokenized hashtags, we need to go back and update the bag-of-words representation for each event.\n",
    "\n",
    "**Task**: Complete the ``update_event_bow(events)`` function. The function takes **a list of preprocessed events**, and for each event, it looks for every hashtag it has and updates the bag-of-words dictionary with the tokenized hashtag tokens. Note: you do not need to delete the counts of the original hashtags when updating the bag-of-words (e.g., if a document has \"#speakup\":2 in its bag-of-words representation, you do not need to delete this hashtag and its counts)."
   ]
  },
  {
   "cell_type": "code",
   "execution_count": 33,
   "metadata": {},
   "outputs": [
    {
     "name": "stdout",
     "output_type": "stream",
     "text": [
      "Number of preprocessed rumour events = 500\n",
      "Number of preprocessed non-rumour events = 1000\n"
     ]
    }
   ],
   "source": [
    "def update_event_bow(events):\n",
    "    ###\n",
    "    # Your answer BEGINS HERE\n",
    "    ###\n",
    "    updated_event_list = []\n",
    "    for event in events:\n",
    "        for hashtag in get_all_hashtags([event]):\n",
    "            \n",
    "            # Update the token count with additional tokenized hashtags.\n",
    "            # If the token exists already, simply add one to the count. Otherwise create a new dictionary entry.\n",
    "            for token in tokenized_hashtags[hashtag]:\n",
    "                if token in event:\n",
    "                    event[token] += 1\n",
    "                else:\n",
    "                    event[token] = 1\n",
    "    ###\n",
    "    # Your answer ENDS HERE\n",
    "    ###\n",
    "    \n",
    "update_event_bow(preprocessed_rumour_events)\n",
    "update_event_bow(preprocessed_nonrumour_events)\n",
    "\n",
    "print(\"Number of preprocessed rumour events =\", len(preprocessed_rumour_events))\n",
    "print(\"Number of preprocessed non-rumour events =\", len(preprocessed_nonrumour_events))"
   ]
  },
  {
   "cell_type": "markdown",
   "metadata": {},
   "source": [
    "# Text Classification (4 marks)"
   ]
  },
  {
   "cell_type": "markdown",
   "metadata": {},
   "source": [
    "### Question 5 (1.0 mark)\n",
    "\n",
    "**Instructions**: Here we are interested to do text classification, to predict, given a tweet and its reactions, whether it is a rumour or not. The task here is to create training, development and test partitions from the preprocessed events and convert the bag-of-words representation into feature vectors.\n",
    "\n",
    "**Task**: Using scikit-learn, create training, development and test partitions with a 60%/20%/20% ratio. Remember to preserve the ratio of rumour/non-rumour events for all your partitions. Next, turn the bag-of-words dictionary of each event into a feature vector, using scikit-learn `DictVectorizer`."
   ]
  },
  {
   "cell_type": "code",
   "execution_count": 44,
   "metadata": {},
   "outputs": [
    {
     "name": "stdout",
     "output_type": "stream",
     "text": [
      "Vocabulary size = 27684\n"
     ]
    }
   ],
   "source": [
    "from sklearn.feature_extraction import DictVectorizer\n",
    "import random\n",
    "import numpy as np\n",
    "vectorizer = DictVectorizer()\n",
    "\n",
    "###\n",
    "# Your answer BEGINS HERE\n",
    "###\n",
    "\n",
    "# Randomly shuffle the rumor and non-rumor events to make the training process less biased\n",
    "random.shuffle(preprocessed_rumour_events)\n",
    "random.shuffle(preprocessed_nonrumour_events)\n",
    "\n",
    "# Partition a training set with 60% events from the both the rumor events and the non-rumor events\n",
    "# Create a label set for the training set\n",
    "training_set = preprocessed_rumour_events[:int(len(preprocessed_rumour_events)*.6)] + preprocessed_nonrumour_events[:int(len(preprocessed_nonrumour_events)*.6)]\n",
    "training_label = ['rumour'] * int(len(preprocessed_rumour_events)*.6) + ['non-rumour'] * int(len(preprocessed_nonrumour_events)*.6)\n",
    "\n",
    "# Partition a training set with 20% events from the remaining 40% rumor and non-rumor events\n",
    "# Create a label set for the development set\n",
    "development_set = preprocessed_rumour_events[int(len(preprocessed_rumour_events)*.6):int(len(preprocessed_rumour_events)*.8)] + preprocessed_nonrumour_events[int(len(preprocessed_nonrumour_events)*.6):int(len(preprocessed_nonrumour_events)*.8)]\n",
    "development_label = ['rumour'] * int(len(preprocessed_rumour_events)*.2) + ['non-rumour'] * int(len(preprocessed_nonrumour_events)*.2)\n",
    "\n",
    "# Create a test set with the remaining 20% rumor and non-rumor events\n",
    "# Create a label set for the test set\n",
    "test_set = preprocessed_rumour_events[int(len(preprocessed_rumour_events)*.8):int(len(preprocessed_rumour_events))] + preprocessed_nonrumour_events[int(len(preprocessed_nonrumour_events)*.8):int(len(preprocessed_nonrumour_events))]\n",
    "test_label = ['rumour'] * int(len(preprocessed_rumour_events)*.2) + ['non-rumour'] * int(len(preprocessed_nonrumour_events)*.2)\n",
    "\n",
    "training_data = vectorizer.fit_transform(training_set)\n",
    "development_data = vectorizer.transform(development_set)\n",
    "test_data = vectorizer.transform(test_set)\n",
    "###\n",
    "# Your answer ENDS HERE\n",
    "###\n",
    "\n",
    "print(\"Vocabulary size =\", len(vectorizer.vocabulary_))"
   ]
  },
  {
   "cell_type": "markdown",
   "metadata": {},
   "source": [
    "### Question 6 (2.0 mark)\n",
    "\n",
    "**Instructions**: Now, let's build some classifiers. Here, we'll be comparing Naive Bayes and Logistic Regression. For each, you need to first find a good value for their main regularisation (hyper)parameters, which you should identify using the scikit-learn docs or other resources. Use the development set you created for this tuning process; do **not** use cross-validation in the training set, or involve the test set in any way. You don't need to show all your work, but you do need to print out the accuracy with enough different settings to strongly suggest you have found an optimal or near-optimal choice. We should not need to look at your code to interpret the output.\n",
    "\n",
    "**Task**: Implement two text classifiers: Naive Bayes and Logistic Regression. Tune the hyper-parameters of these classifiers and print the task performance for different hyper-parameter settings."
   ]
  },
  {
   "cell_type": "code",
   "execution_count": 45,
   "metadata": {
    "scrolled": false
   },
   "outputs": [
    {
     "name": "stdout",
     "output_type": "stream",
     "text": [
      ">>>>>>>>>>>>>>>>>>>>>>>> Naive Bayes <<<<<<<<<<<<<<<<<<<<<<<<\n",
      "Best Accuracy:  0.74  alpha =  0.0\n",
      "Best Accuracy:  0.7666666666666667  alpha =  0.01\n",
      "Best Accuracy:  0.7766666666666666  alpha =  0.02\n",
      "Best Accuracy:  0.78  alpha =  0.03\n",
      "Best Accuracy:  0.79  alpha =  0.04\n",
      "Best Accuracy:  0.7933333333333333  alpha =  0.05\n",
      "Best Accuracy:  0.7966666666666666  alpha =  0.2\n",
      "Best Accuracy:  0.8  alpha =  0.23\n",
      "Best Accuracy:  0.8033333333333333  alpha =  0.36\n",
      "Best Accuracy:  0.81  alpha =  0.37\n"
     ]
    },
    {
     "name": "stderr",
     "output_type": "stream",
     "text": [
      "C:\\Users\\noden\\Anaconda3\\lib\\site-packages\\sklearn\\naive_bayes.py:485: UserWarning: alpha too small will result in numeric errors, setting alpha = 1.0e-10\n",
      "  'setting alpha = %.1e' % _ALPHA_MIN)\n"
     ]
    },
    {
     "name": "stdout",
     "output_type": "stream",
     "text": [
      "\n",
      ">>>>>>>>>>>>>>>>>>>> Logistic Regression <<<<<<<<<<<<<<<<<<<<\n",
      "Best Accuracy:  0.8  C =  0.01\n",
      "Best Accuracy:  0.8166666666666667  C =  0.02\n",
      "Best Accuracy:  0.8266666666666667  C =  0.03\n"
     ]
    },
    {
     "name": "stderr",
     "output_type": "stream",
     "text": [
      "C:\\Users\\noden\\Anaconda3\\lib\\site-packages\\sklearn\\linear_model\\logistic.py:432: FutureWarning: Default solver will be changed to 'lbfgs' in 0.22. Specify a solver to silence this warning.\n",
      "  FutureWarning)\n"
     ]
    },
    {
     "name": "stdout",
     "output_type": "stream",
     "text": [
      "Best Accuracy:  0.83  C =  0.060000000000000005\n",
      "Best Accuracy:  0.8333333333333334  C =  0.06999999999999999\n",
      "Best Accuracy:  0.84  C =  0.09999999999999999\n",
      "Best Accuracy:  0.8433333333333334  C =  0.13\n",
      "Best Accuracy:  0.85  C =  0.3\n",
      "Best Accuracy:  0.8533333333333334  C =  4.37\n"
     ]
    }
   ],
   "source": [
    "from sklearn.naive_bayes import MultinomialNB\n",
    "from sklearn.linear_model import LogisticRegression\n",
    "from sklearn.metrics import accuracy_score\n",
    "import numpy\n",
    "\n",
    "###\n",
    "# Your answer BEGINS HERE\n",
    "###\n",
    "\n",
    "# Performs a grid search on the \"alpha\" hyperparamater of the Naive Bayes model\n",
    "# Accuracy is tested with the development set\n",
    "best_alpha = 0\n",
    "best_accuracy = 0\n",
    "print('>>>>>>>>>>>>>>>>>>>>>>>> Naive Bayes <<<<<<<<<<<<<<<<<<<<<<<<')\n",
    "for a in numpy.arange(0, 5, 0.01):\n",
    "    naive_bayes_model = MultinomialNB(alpha=a, fit_prior=True, class_prior=None)\n",
    "    naive_bayes_model.fit(training_data, np.array(training_label))\n",
    "    if accuracy_score(naive_bayes_model.predict(development_data), np.array(development_label)) > best_accuracy:\n",
    "        best_accuracy = accuracy_score(naive_bayes_model.predict(development_data), np.array(development_label))\n",
    "        best_alpha = a\n",
    "        print('Best Accuracy: ', best_accuracy, ' alpha = ', best_alpha)\n",
    "\n",
    "# Train a final Naive Bayes model with the alpha value that gives the best result\n",
    "naive_bayes_model = MultinomialNB(alpha=best_alpha, fit_prior=True, class_prior=None).fit(training_data, np.array(training_label))\n",
    "\n",
    "# Performs a grid search on the \"C\" hyperparamater of the Logistic Regression model\n",
    "# Accuracy is tested with the development set\n",
    "best_c = 0\n",
    "best_accuracy_2 = 0\n",
    "print('\\n>>>>>>>>>>>>>>>>>>>> Logistic Regression <<<<<<<<<<<<<<<<<<<<')\n",
    "for c in numpy.arange(0.01, 5, 0.01):\n",
    "    logistic_regression_model = LogisticRegression(C=c)\n",
    "    logistic_regression_model.fit(training_data, np.array(training_label))\n",
    "    if accuracy_score(logistic_regression_model.predict(development_data), np.array(development_label)) > best_accuracy_2:\n",
    "        best_accuracy_2 = accuracy_score(logistic_regression_model.predict(development_data), np.array(development_label))\n",
    "        best_c = c\n",
    "        print('Best Accuracy: ', best_accuracy_2, ' C = ', best_c)\n",
    "\n",
    "\n",
    "logistic_regression_model = LogisticRegression(C=c).fit(training_data, np.array(training_label))\n",
    "###\n",
    "# Your answer ENDS HERE\n",
    "###"
   ]
  },
  {
   "cell_type": "markdown",
   "metadata": {},
   "source": [
    "### Question 7 (1.0 mark)\n",
    "\n",
    "**Instructions**: Using the best settings you have found, compare the two classifiers based on performance in the test set. Print out both accuracy and macro-averaged F-score for each classifier. Be sure to label your output.\n",
    "\n",
    "**Task**: Compute test performance in terms of accuracy and macro-averaged F-score for both Naive Bayes and Logistic Regression, using optimal hyper-parameter settings."
   ]
  },
  {
   "cell_type": "code",
   "execution_count": 46,
   "metadata": {},
   "outputs": [
    {
     "name": "stdout",
     "output_type": "stream",
     "text": [
      ">>>>>>>>>>>>>>>>>>>>>>>> Naive Bayes <<<<<<<<<<<<<<<<<<<<<<<<\n",
      "Accuracy:  0.81\n",
      "Macro-averaged F-score:  0.7925537722458783\n",
      "\n",
      ">>>>>>>>>>>>>>>>>>>> Logistic Regression <<<<<<<<<<<<<<<<<<<<\n",
      "Accuracy:  0.8433333333333334\n",
      "Macro-averaged F-score:  0.8223980048116285\n"
     ]
    }
   ],
   "source": [
    "from sklearn.metrics import f1_score\n",
    "\n",
    "###\n",
    "# Your answer BEGINS HERE\n",
    "###\n",
    "\n",
    "print('>>>>>>>>>>>>>>>>>>>>>>>> Naive Bayes <<<<<<<<<<<<<<<<<<<<<<<<')\n",
    "print(\"Accuracy: \", accuracy_score(naive_bayes_model.predict(test_data), np.array(test_label)))\n",
    "print(\"Macro-averaged F-score: \", f1_score(naive_bayes_model.predict(test_data), np.array(test_label), average='macro'))\n",
    "\n",
    "print('\\n>>>>>>>>>>>>>>>>>>>> Logistic Regression <<<<<<<<<<<<<<<<<<<<')\n",
    "print(\"Accuracy: \", accuracy_score(logistic_regression_model.predict(test_data), np.array(test_label)))\n",
    "print(\"Macro-averaged F-score: \", f1_score(logistic_regression_model.predict(test_data), np.array(test_label), average='macro'))\n",
    "\n",
    "###\n",
    "# Your answer ENDS HERE\n",
    "###"
   ]
  },
  {
   "cell_type": "code",
   "execution_count": null,
   "metadata": {},
   "outputs": [],
   "source": []
  }
 ],
 "metadata": {
  "kernelspec": {
   "display_name": "Python 3",
   "language": "python",
   "name": "python3"
  },
  "language_info": {
   "codemirror_mode": {
    "name": "ipython",
    "version": 3
   },
   "file_extension": ".py",
   "mimetype": "text/x-python",
   "name": "python",
   "nbconvert_exporter": "python",
   "pygments_lexer": "ipython3",
   "version": "3.7.3"
  }
 },
 "nbformat": 4,
 "nbformat_minor": 2
}
